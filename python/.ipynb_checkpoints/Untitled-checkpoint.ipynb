{
 "cells": [
  {
   "cell_type": "code",
   "execution_count": 29,
   "metadata": {},
   "outputs": [
    {
     "data": {
      "text/plain": [
       "<module 'gp_c' from '/home/luca/source/GP3/python/gp_c.cpython-38-x86_64-linux-gnu.so'>"
      ]
     },
     "execution_count": 29,
     "metadata": {},
     "output_type": "execute_result"
    }
   ],
   "source": [
    "import gp\n",
    "from importlib import reload\n",
    "import re\n",
    "import numpy as np\n",
    "import unittest\n",
    "import yt\n",
    "import gp_c\n",
    "reload(gp_c)"
   ]
  },
  {
   "cell_type": "code",
   "execution_count": 33,
   "metadata": {},
   "outputs": [],
   "source": [
    "reload(gp)\n",
    "shape=(100,100,100)\n",
    "domain=((-5,5),(-5,5),(-5,5))\n",
    "geo=gp.geometry(shape,domain)"
   ]
  },
  {
   "cell_type": "code",
   "execution_count": 41,
   "metadata": {},
   "outputs": [
    {
     "data": {
      "text/plain": [
       "<bound method YTSelectionContainer3D.get_bbox of YTRegion (): , center=[0. 0. 0.] cm, left_edge=[-5. -5. -5.] cm, right_edge=[5. 5. 5.] cm>"
      ]
     },
     "execution_count": 41,
     "metadata": {},
     "output_type": "execute_result"
    }
   ],
   "source": [
    "#sim = gp.gp_simulation( \"out/phi_real00000\",\"out/phi_imag00000\",geo)"
   ]
  },
  {
   "cell_type": "code",
   "execution_count": 24,
   "metadata": {},
   "outputs": [
    {
     "data": {
      "text/plain": [
       "unyt_array([[-4.9609375, -4.9609375, -4.9609375],\n",
       "            [-4.9609375, -4.9609375, -4.8828125],\n",
       "            [-4.9609375, -4.9609375, -4.8046875],\n",
       "            ...,\n",
       "            [ 4.9609375,  4.9609375,  4.8046875],\n",
       "            [ 4.9609375,  4.9609375,  4.8828125],\n",
       "            [ 4.9609375,  4.9609375,  4.9609375]], 'code_length')"
      ]
     },
     "execution_count": 24,
     "metadata": {},
     "output_type": "execute_result"
    }
   ],
   "source": [
    "ds.all_data().fcoords"
   ]
  },
  {
   "cell_type": "code",
   "execution_count": 28,
   "metadata": {},
   "outputs": [
    {
     "data": {
      "text/plain": [
       "1000000"
      ]
     },
     "execution_count": 28,
     "metadata": {},
     "output_type": "execute_result"
    }
   ],
   "source": [
    "100*100*100"
   ]
  },
  {
   "cell_type": "code",
   "execution_count": null,
   "metadata": {},
   "outputs": [],
   "source": []
  }
 ],
 "metadata": {
  "kernelspec": {
   "display_name": "Python 3",
   "language": "python",
   "name": "python3"
  },
  "language_info": {
   "codemirror_mode": {
    "name": "ipython",
    "version": 3
   },
   "file_extension": ".py",
   "mimetype": "text/x-python",
   "name": "python",
   "nbconvert_exporter": "python",
   "pygments_lexer": "ipython3",
   "version": "3.8.5"
  },
  "toc": {
   "base_numbering": 1,
   "nav_menu": {},
   "number_sections": true,
   "sideBar": true,
   "skip_h1_title": false,
   "title_cell": "Table of Contents",
   "title_sidebar": "Contents",
   "toc_cell": false,
   "toc_position": {},
   "toc_section_display": true,
   "toc_window_display": true
  }
 },
 "nbformat": 4,
 "nbformat_minor": 4
}
